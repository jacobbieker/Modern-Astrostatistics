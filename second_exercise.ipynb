{
 "cells": [
  {
   "cell_type": "code",
   "execution_count": 1,
   "metadata": {},
   "outputs": [],
   "source": [
    "import numpy as np"
   ]
  },
  {
   "cell_type": "code",
   "execution_count": 83,
   "metadata": {},
   "outputs": [
    {
     "name": "stdout",
     "output_type": "stream",
     "text": [
      "\n",
      "Part 1,2 x~G(0,1)\n",
      "number of x>3 samples: 1342\n",
      "fraction of samples: 0.001342\n",
      "hypothesis rejected 1342 times\n",
      "\n",
      "Part 3.1 x~G(0,2)\n",
      "number of x>3 samples: 16990\n",
      "fraction of samples: 0.016990\n",
      "hypothesis rejected 16990 times\n",
      "\n",
      "Part 3.2 x~G(-0.5,1)\n",
      "number of x>3 samples: 222\n",
      "fraction of samples: 0.000222\n",
      "hypothesis rejected 222 times\n"
     ]
    }
   ],
   "source": [
    "# Part 1-2\n",
    "\n",
    "number_of_samples = np.int(1e6)\n",
    "gauss_data = np.random.normal(0,1,number_of_samples)\n",
    "samples_greater_than_three = 0\n",
    "for i in gauss_data:\n",
    "    if i>3:\n",
    "        samples_greater_than_three+=1\n",
    "fraction_of_samples = samples_greater_than_three/number_of_samples\n",
    "\n",
    "print('\\nPart 1,2 x~G(0,1)\\nnumber of x>3 samples: %i\\nfraction of samples: %f\\nhypothesis rejected %i times' \\\n",
    "      %(samples_greater_than_three,fraction_of_samples, samples_greater_than_three))\n",
    "\n",
    "# Part 3\n",
    "\n",
    "# (1)\n",
    "number_of_samples = np.int(1e6)\n",
    "gauss_data = np.random.normal(0,np.sqrt(2),number_of_samples)\n",
    "samples_greater_than_three = 0\n",
    "for i in gauss_data:\n",
    "    if i>3:\n",
    "        samples_greater_than_three+=1\n",
    "fraction_of_samples = samples_greater_than_three/number_of_samples\n",
    "\n",
    "print('\\nPart 3.1 x~G(0,2)\\nnumber of x>3 samples: %i\\nfraction of samples: %f\\nhypothesis rejected %i times' \\\n",
    "      %(samples_greater_than_three,fraction_of_samples, samples_greater_than_three))\n",
    "\n",
    "# (2)\n",
    "gauss_data_m_equals_two = np.random.normal(-0.5,1,number_of_samples)\n",
    "samples_greater_than_three = 0\n",
    "for i in gauss_data_m_equals_two:\n",
    "    if i>3:\n",
    "        samples_greater_than_three+=1\n",
    "fraction_of_samples = samples_greater_than_three/number_of_samples\n",
    "\n",
    "print('\\nPart 3.2 x~G(-0.5,1)\\nnumber of x>3 samples: %i\\nfraction of samples: %f\\nhypothesis rejected %i times' \\\n",
    "      %(samples_greater_than_three,fraction_of_samples, samples_greater_than_three))"
   ]
  },
  {
   "cell_type": "code",
   "execution_count": null,
   "metadata": {},
   "outputs": [],
   "source": []
  }
 ],
 "metadata": {
  "kernelspec": {
   "display_name": "Python 3",
   "language": "python",
   "name": "python3"
  },
  "language_info": {
   "codemirror_mode": {
    "name": "ipython",
    "version": 3
   },
   "file_extension": ".py",
   "mimetype": "text/x-python",
   "name": "python",
   "nbconvert_exporter": "python",
   "pygments_lexer": "ipython3",
   "version": "3.6.6"
  }
 },
 "nbformat": 4,
 "nbformat_minor": 2
}
